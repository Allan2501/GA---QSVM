{
 "cells": [
  {
   "cell_type": "code",
   "execution_count": 10,
   "metadata": {},
   "outputs": [],
   "source": [
    "from sklearn.datasets import load_iris\n",
    "from sklearn.model_selection import train_test_split\n",
    "from sklearn.preprocessing import StandardScaler\n",
    "from sklearn.svm import SVC\n",
    "from qiskit_machine_learning.kernels import QuantumKernel\n",
    "from qiskit import Aer\n",
    "from qiskit_machine_learning.algorithms import QSVC\n",
    "from sklearn.metrics import classification_report\n",
    "from sklearn.datasets import fetch_openml\n",
    "from qiskit.circuit.library import PauliFeatureMap, ZFeatureMap, ZZFeatureMap\n",
    "from qiskit.visualization import plot_circuit_layout\n",
    "from qiskit import QuantumCircuit\n",
    "import numpy as np\n",
    "from qiskit.circuit.library import BlueprintCircuit\n",
    "from qiskit.circuit import Parameter\n",
    "from sklearn.datasets import make_classification\n",
    "from sklearn.metrics import accuracy_score"
   ]
  },
  {
   "cell_type": "code",
   "execution_count": 47,
   "metadata": {},
   "outputs": [],
   "source": [
    "from sklearn.decomposition import PCA"
   ]
  },
  {
   "cell_type": "code",
   "execution_count": 21,
   "metadata": {},
   "outputs": [],
   "source": [
    "def PCA_running(number_dimension: int, X_train, X_test):\n",
    "    pca = PCA(n_components=number_dimension)\n",
    "    X_train_pca = pca.fit_transform(X_train)\n",
    "    X_test_pca = pca.transform(X_test)\n",
    "    \n",
    "    return X_train_pca, X_test_pca"
   ]
  },
  {
   "cell_type": "code",
   "execution_count": 49,
   "metadata": {},
   "outputs": [],
   "source": [
    "\n",
    "def train_qsvm_with_Iris(quantum_circuit):\n",
    "    scaler = StandardScaler()\n",
    "    iris = load_iris()\n",
    "    X_train, X_test, y_train, y_test = train_test_split(iris.data, iris.target, test_size=0.2, random_state=42)\n",
    "    \n",
    "    if quantum_circuit.num_qubits > len(quantum_circuit.parameters):\n",
    "        pca =PCA(len(quantum_circuit.parameters))\n",
    "        X_train = pca.fit_transform(X_train)\n",
    "        X_test = pca.transform(X_test)\n",
    "        print(\"X train shape:\", X_train.shape)\n",
    "        print(\"X test shape:\", X_test.shape)\n",
    "        \n",
    "\n",
    "        \n",
    "    backend = Aer.get_backend('qasm_simulator')\n",
    "    quantum_kernel = QuantumKernel(feature_map=quantum_circuit, quantum_instance=backend)\n",
    "    qsvc = QSVC(quantum_kernel=quantum_kernel)\n",
    "\n",
    "    # Huấn luyện QSVM\n",
    "    qsvc.fit(X_train, y_train)\n",
    "    y_pred = qsvc.predict(X_test)\n",
    "    accuracy = accuracy_score(y_test, y_pred)\n",
    "\n",
    "    return accuracy\n"
   ]
  },
  {
   "cell_type": "markdown",
   "metadata": {},
   "source": [
    "**ZFeatureMap()**"
   ]
  },
  {
   "cell_type": "code",
   "execution_count": 12,
   "metadata": {},
   "outputs": [],
   "source": [
    "z_feature_map = ZFeatureMap(feature_dimension=4)"
   ]
  },
  {
   "cell_type": "code",
   "execution_count": 13,
   "metadata": {},
   "outputs": [
    {
     "data": {
      "text/plain": [
       "0.9"
      ]
     },
     "execution_count": 13,
     "metadata": {},
     "output_type": "execute_result"
    }
   ],
   "source": [
    "train_qsvm_with_Iris(z_feature_map)"
   ]
  },
  {
   "cell_type": "markdown",
   "metadata": {},
   "source": [
    "**ZZFeatureMap()**"
   ]
  },
  {
   "cell_type": "code",
   "execution_count": 14,
   "metadata": {},
   "outputs": [],
   "source": [
    "zz_feature_map = ZZFeatureMap(feature_dimension=4)"
   ]
  },
  {
   "cell_type": "code",
   "execution_count": 15,
   "metadata": {},
   "outputs": [
    {
     "data": {
      "text/plain": [
       "0.4"
      ]
     },
     "execution_count": 15,
     "metadata": {},
     "output_type": "execute_result"
    }
   ],
   "source": [
    "train_qsvm_with_Iris(zz_feature_map)"
   ]
  },
  {
   "cell_type": "markdown",
   "metadata": {},
   "source": [
    "**GA**"
   ]
  },
  {
   "cell_type": "markdown",
   "metadata": {},
   "source": [
    "Initial Feature: 4\n",
    "\n",
    "Condition feature map: Qubit = Num of Parameter = 4"
   ]
  },
  {
   "cell_type": "code",
   "execution_count": 16,
   "metadata": {},
   "outputs": [],
   "source": [
    "import os\n",
    "from qiskit.qpy import load"
   ]
  },
  {
   "cell_type": "code",
   "execution_count": 52,
   "metadata": {},
   "outputs": [
    {
     "name": "stdout",
     "output_type": "stream",
     "text": [
      "Other case\n",
      "X train shape: (120, 2)\n",
      "X test shape: (30, 2)\n",
      "Train with num_qubit 4 depth 1 and num_circuit 1 - Accuracy 0.8666666666666667\n",
      "Other case\n",
      "X train shape: (120, 2)\n",
      "X test shape: (30, 2)\n",
      "Train with num_qubit 4 depth 1 and num_circuit 4 - Accuracy 0.43333333333333335\n",
      "Ideal case\n",
      "Train with num_qubit 4 depth 1 and num_circuit 5 - Accuracy 1.0\n",
      "Ideal case\n",
      "Train with num_qubit 4 depth 1 and num_circuit 6 - Accuracy 1.0\n",
      "Ideal case\n",
      "Train with num_qubit 4 depth 1 and num_circuit 7 - Accuracy 1.0\n",
      "Other case\n",
      "X train shape: (120, 3)\n",
      "X test shape: (30, 3)\n",
      "Train with num_qubit 4 depth 1 and num_circuit 8 - Accuracy 0.9666666666666667\n",
      "Ideal case\n",
      "Train with num_qubit 4 depth 1 and num_circuit 9 - Accuracy 1.0\n",
      "Ideal case\n",
      "Train with num_qubit 4 depth 2 and num_circuit 1 - Accuracy 1.0\n",
      "Ideal case\n",
      "Train with num_qubit 4 depth 2 and num_circuit 2 - Accuracy 1.0\n",
      "Ideal case\n",
      "Train with num_qubit 4 depth 2 and num_circuit 3 - Accuracy 1.0\n",
      "Ideal case\n",
      "Train with num_qubit 4 depth 2 and num_circuit 4 - Accuracy 0.9333333333333333\n",
      "Ideal case\n",
      "Train with num_qubit 4 depth 2 and num_circuit 7 - Accuracy 1.0\n"
     ]
    }
   ],
   "source": [
    "base_directory = r'C:\\Desktop\\GA+QSVM'\n",
    "folder_pattern = \"[IRIS]Best_Circuit_With_NumQubit_{i}_Depth_{j}_NumCircuit_{k}\"\n",
    "results = {}\n",
    "for i in range(1,10):\n",
    "    for j in range(1,10):\n",
    "        for k in range(1,10):\n",
    "            folder_name = folder_pattern.format(i=i, j=j, k=k)\n",
    "            folder_path = os.path.join(base_directory, folder_name)\n",
    "            \n",
    "            if os.path.isdir(folder_path):\n",
    "                file_path = os.path.join(folder_path, \"best_circuit.qpy\")\n",
    "                \n",
    "                if os.path.exists(file_path):\n",
    "                    try:\n",
    "                        with open(file_path, \"rb\") as f:\n",
    "                            circuits = load(f) \n",
    "                            best_circuit = circuits[0]  \n",
    "                        \n",
    "                        if best_circuit.num_qubits == len(best_circuit.parameters):\n",
    "                            print(\"Ideal case\")\n",
    "                            test = train_qsvm_with_Iris(best_circuit)\n",
    "                            print(f\"Train with num_qubit {i} depth {j} and num_circuit {k} - Accuracy {test}\")\n",
    "                            \n",
    "                        if best_circuit.num_qubits > len(best_circuit.parameters) and (len(best_circuit.parameters) != 1):\n",
    "                            print(\"Other case\")\n",
    "                            test = train_qsvm_with_Iris(best_circuit)\n",
    "                            print(f\"Train with num_qubit {i} depth {j} and num_circuit {k} - Accuracy {test}\")\n",
    "\n",
    "\n",
    "                    \n",
    "                    except Exception as e:\n",
    "                        print(f\"Error loading circuit in {file_path}: {e}\")\n",
    "                else:\n",
    "                    print(\"Fail loading\")"
   ]
  },
  {
   "cell_type": "code",
   "execution_count": null,
   "metadata": {},
   "outputs": [],
   "source": []
  }
 ],
 "metadata": {
  "kernelspec": {
   "display_name": "Python 3",
   "language": "python",
   "name": "python3"
  },
  "language_info": {
   "codemirror_mode": {
    "name": "ipython",
    "version": 3
   },
   "file_extension": ".py",
   "mimetype": "text/x-python",
   "name": "python",
   "nbconvert_exporter": "python",
   "pygments_lexer": "ipython3",
   "version": "3.11.5"
  }
 },
 "nbformat": 4,
 "nbformat_minor": 2
}
