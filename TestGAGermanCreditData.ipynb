{
 "cells": [
  {
   "cell_type": "code",
   "execution_count": 2,
   "metadata": {},
   "outputs": [],
   "source": [
    "import numpy as np\n",
    "import qiskit\n",
    "from sklearn.datasets import load_iris\n",
    "from sklearn.model_selection import train_test_split\n",
    "from sklearn.preprocessing import StandardScaler\n",
    "from sklearn.svm import SVC\n",
    "from qiskit_machine_learning.kernels import QuantumKernel\n",
    "from qiskit import Aer\n",
    "from qiskit_machine_learning.algorithms import QSVC\n",
    "from sklearn.metrics import classification_report\n",
    "from sklearn.datasets import fetch_openml\n",
    "from qiskit.circuit.library import PauliFeatureMap\n",
    "from qiskit.circuit.library import ZFeatureMap\n",
    "from qiskit.circuit.library import ZZFeatureMap\n",
    "from qiskit.visualization import plot_circuit_layout\n",
    "from qiskit import QuantumCircuit\n",
    "from qiskit.circuit.library import BlueprintCircuit\n",
    "from qiskit.circuit import Parameter\n",
    "from sklearn.datasets import make_classification\n",
    "from sklearn.metrics import accuracy_score\n",
    "from qoop.compilation.qsp import QuantumStatePreparation\n",
    "from qoop.core import state\n",
    "from qoop.evolution.environment import EEnvironmentMetadata\n",
    "from qoop.evolution.environment import EEnvironment"
   ]
  },
  {
   "cell_type": "code",
   "execution_count": 3,
   "metadata": {},
   "outputs": [],
   "source": [
    "def fitnessW(qc: qiskit.QuantumCircuit, loop_index: int):\n",
    "        # Create a quantum state preparation optimizer based on a given trainable unitary (u) and target unitary.\n",
    "    qsp = QuantumStatePreparation(\n",
    "        u=qc,\n",
    "        target_state=state.w(num_qubits=loop_index).inverse()\n",
    "        ).fit()  # Begin to optimize trainable unitary\n",
    "        # qsp.plot()  # Uncomment if you want to plot the optimization process\n",
    "    return 1 - qsp.compiler.metrics['loss_fubini_study'][-1]  # Fitness value"
   ]
  },
  {
   "cell_type": "code",
   "execution_count": 4,
   "metadata": {},
   "outputs": [],
   "source": [
    "def auto_run(num_qubit: int):\n",
    "    env_metadata = EEnvironmentMetadata(\n",
    "        num_qubits=num_qubit,\n",
    "        depth=2,\n",
    "        num_circuit=4,\n",
    "        num_generation=5,\n",
    "        prob_mutate=0.01\n",
    "    )\n",
    "    env = EEnvironment(\n",
    "        metadata=env_metadata,\n",
    "        fitness_func=lambda qc: fitnessW(qc, num_qubit),\n",
    "    )\n",
    "    env.set_filename(f'Best_Circuit_With_NumQubit_{num_qubit}')\n",
    "    env.evol()\n",
    "    env.plot()\n"
   ]
  },
  {
   "cell_type": "markdown",
   "metadata": {},
   "source": [
    "**DATA PREPROCESSING**"
   ]
  },
  {
   "cell_type": "markdown",
   "metadata": {},
   "source": [
    "Load data"
   ]
  },
  {
   "cell_type": "code",
   "execution_count": 5,
   "metadata": {},
   "outputs": [
    {
     "data": {
      "text/html": [
       "<div>\n",
       "<style scoped>\n",
       "    .dataframe tbody tr th:only-of-type {\n",
       "        vertical-align: middle;\n",
       "    }\n",
       "\n",
       "    .dataframe tbody tr th {\n",
       "        vertical-align: top;\n",
       "    }\n",
       "\n",
       "    .dataframe thead th {\n",
       "        text-align: right;\n",
       "    }\n",
       "</style>\n",
       "<table border=\"1\" class=\"dataframe\">\n",
       "  <thead>\n",
       "    <tr style=\"text-align: right;\">\n",
       "      <th></th>\n",
       "      <th>Age</th>\n",
       "      <th>Sex</th>\n",
       "      <th>Job</th>\n",
       "      <th>Housing</th>\n",
       "      <th>Saving accounts</th>\n",
       "      <th>Checking account</th>\n",
       "      <th>Credit amount</th>\n",
       "      <th>Duration</th>\n",
       "      <th>Purpose</th>\n",
       "      <th>Risk</th>\n",
       "    </tr>\n",
       "  </thead>\n",
       "  <tbody>\n",
       "    <tr>\n",
       "      <th>0</th>\n",
       "      <td>67</td>\n",
       "      <td>male</td>\n",
       "      <td>2</td>\n",
       "      <td>own</td>\n",
       "      <td>NaN</td>\n",
       "      <td>little</td>\n",
       "      <td>1169</td>\n",
       "      <td>6</td>\n",
       "      <td>radio/TV</td>\n",
       "      <td>good</td>\n",
       "    </tr>\n",
       "    <tr>\n",
       "      <th>1</th>\n",
       "      <td>22</td>\n",
       "      <td>female</td>\n",
       "      <td>2</td>\n",
       "      <td>own</td>\n",
       "      <td>little</td>\n",
       "      <td>moderate</td>\n",
       "      <td>5951</td>\n",
       "      <td>48</td>\n",
       "      <td>radio/TV</td>\n",
       "      <td>bad</td>\n",
       "    </tr>\n",
       "    <tr>\n",
       "      <th>2</th>\n",
       "      <td>49</td>\n",
       "      <td>male</td>\n",
       "      <td>1</td>\n",
       "      <td>own</td>\n",
       "      <td>little</td>\n",
       "      <td>NaN</td>\n",
       "      <td>2096</td>\n",
       "      <td>12</td>\n",
       "      <td>education</td>\n",
       "      <td>good</td>\n",
       "    </tr>\n",
       "    <tr>\n",
       "      <th>3</th>\n",
       "      <td>45</td>\n",
       "      <td>male</td>\n",
       "      <td>2</td>\n",
       "      <td>free</td>\n",
       "      <td>little</td>\n",
       "      <td>little</td>\n",
       "      <td>7882</td>\n",
       "      <td>42</td>\n",
       "      <td>furniture/equipment</td>\n",
       "      <td>good</td>\n",
       "    </tr>\n",
       "    <tr>\n",
       "      <th>4</th>\n",
       "      <td>53</td>\n",
       "      <td>male</td>\n",
       "      <td>2</td>\n",
       "      <td>free</td>\n",
       "      <td>little</td>\n",
       "      <td>little</td>\n",
       "      <td>4870</td>\n",
       "      <td>24</td>\n",
       "      <td>car</td>\n",
       "      <td>bad</td>\n",
       "    </tr>\n",
       "    <tr>\n",
       "      <th>5</th>\n",
       "      <td>35</td>\n",
       "      <td>male</td>\n",
       "      <td>1</td>\n",
       "      <td>free</td>\n",
       "      <td>NaN</td>\n",
       "      <td>NaN</td>\n",
       "      <td>9055</td>\n",
       "      <td>36</td>\n",
       "      <td>education</td>\n",
       "      <td>good</td>\n",
       "    </tr>\n",
       "    <tr>\n",
       "      <th>6</th>\n",
       "      <td>53</td>\n",
       "      <td>male</td>\n",
       "      <td>2</td>\n",
       "      <td>own</td>\n",
       "      <td>quite rich</td>\n",
       "      <td>NaN</td>\n",
       "      <td>2835</td>\n",
       "      <td>24</td>\n",
       "      <td>furniture/equipment</td>\n",
       "      <td>good</td>\n",
       "    </tr>\n",
       "    <tr>\n",
       "      <th>7</th>\n",
       "      <td>35</td>\n",
       "      <td>male</td>\n",
       "      <td>3</td>\n",
       "      <td>rent</td>\n",
       "      <td>little</td>\n",
       "      <td>moderate</td>\n",
       "      <td>6948</td>\n",
       "      <td>36</td>\n",
       "      <td>car</td>\n",
       "      <td>good</td>\n",
       "    </tr>\n",
       "    <tr>\n",
       "      <th>8</th>\n",
       "      <td>61</td>\n",
       "      <td>male</td>\n",
       "      <td>1</td>\n",
       "      <td>own</td>\n",
       "      <td>rich</td>\n",
       "      <td>NaN</td>\n",
       "      <td>3059</td>\n",
       "      <td>12</td>\n",
       "      <td>radio/TV</td>\n",
       "      <td>good</td>\n",
       "    </tr>\n",
       "    <tr>\n",
       "      <th>9</th>\n",
       "      <td>28</td>\n",
       "      <td>male</td>\n",
       "      <td>3</td>\n",
       "      <td>own</td>\n",
       "      <td>little</td>\n",
       "      <td>moderate</td>\n",
       "      <td>5234</td>\n",
       "      <td>30</td>\n",
       "      <td>car</td>\n",
       "      <td>bad</td>\n",
       "    </tr>\n",
       "  </tbody>\n",
       "</table>\n",
       "</div>"
      ],
      "text/plain": [
       "   Age     Sex  Job Housing Saving accounts Checking account  Credit amount  \\\n",
       "0   67    male    2     own             NaN           little           1169   \n",
       "1   22  female    2     own          little         moderate           5951   \n",
       "2   49    male    1     own          little              NaN           2096   \n",
       "3   45    male    2    free          little           little           7882   \n",
       "4   53    male    2    free          little           little           4870   \n",
       "5   35    male    1    free             NaN              NaN           9055   \n",
       "6   53    male    2     own      quite rich              NaN           2835   \n",
       "7   35    male    3    rent          little         moderate           6948   \n",
       "8   61    male    1     own            rich              NaN           3059   \n",
       "9   28    male    3     own          little         moderate           5234   \n",
       "\n",
       "   Duration              Purpose  Risk  \n",
       "0         6             radio/TV  good  \n",
       "1        48             radio/TV   bad  \n",
       "2        12            education  good  \n",
       "3        42  furniture/equipment  good  \n",
       "4        24                  car   bad  \n",
       "5        36            education  good  \n",
       "6        24  furniture/equipment  good  \n",
       "7        36                  car  good  \n",
       "8        12             radio/TV  good  \n",
       "9        30                  car   bad  "
      ]
     },
     "execution_count": 5,
     "metadata": {},
     "output_type": "execute_result"
    }
   ],
   "source": [
    "import pandas as pd\n",
    "credit_df = pd.read_csv(\"C:\\Desktop\\GA+QSVM\\german_credit_data.csv\",index_col=0)\n",
    "credit_df.head(10)"
   ]
  },
  {
   "cell_type": "code",
   "execution_count": 6,
   "metadata": {},
   "outputs": [
    {
     "name": "stdout",
     "output_type": "stream",
     "text": [
      "<class 'pandas.core.frame.DataFrame'>\n",
      "Index: 1000 entries, 0 to 999\n",
      "Data columns (total 10 columns):\n",
      " #   Column            Non-Null Count  Dtype \n",
      "---  ------            --------------  ----- \n",
      " 0   Age               1000 non-null   int64 \n",
      " 1   Sex               1000 non-null   object\n",
      " 2   Job               1000 non-null   int64 \n",
      " 3   Housing           1000 non-null   object\n",
      " 4   Saving accounts   817 non-null    object\n",
      " 5   Checking account  606 non-null    object\n",
      " 6   Credit amount     1000 non-null   int64 \n",
      " 7   Duration          1000 non-null   int64 \n",
      " 8   Purpose           1000 non-null   object\n",
      " 9   Risk              1000 non-null   object\n",
      "dtypes: int64(4), object(6)\n",
      "memory usage: 85.9+ KB\n"
     ]
    }
   ],
   "source": [
    "credit_df.info()"
   ]
  },
  {
   "cell_type": "code",
   "execution_count": 7,
   "metadata": {},
   "outputs": [
    {
     "name": "stdout",
     "output_type": "stream",
     "text": [
      "<class 'pandas.core.frame.DataFrame'>\n",
      "Index: 1000 entries, 0 to 999\n",
      "Data columns (total 10 columns):\n",
      " #   Column            Non-Null Count  Dtype \n",
      "---  ------            --------------  ----- \n",
      " 0   Age               1000 non-null   int64 \n",
      " 1   Sex               1000 non-null   object\n",
      " 2   Job               1000 non-null   int64 \n",
      " 3   Housing           1000 non-null   object\n",
      " 4   Saving accounts   1000 non-null   object\n",
      " 5   Checking account  1000 non-null   object\n",
      " 6   Credit amount     1000 non-null   int64 \n",
      " 7   Duration          1000 non-null   int64 \n",
      " 8   Purpose           1000 non-null   object\n",
      " 9   Risk              1000 non-null   object\n",
      "dtypes: int64(4), object(6)\n",
      "memory usage: 85.9+ KB\n"
     ]
    }
   ],
   "source": [
    "credit_df = credit_df.fillna(value=\"not available\")\n",
    "credit_df.info()"
   ]
  },
  {
   "cell_type": "code",
   "execution_count": 8,
   "metadata": {},
   "outputs": [
    {
     "data": {
      "text/html": [
       "<div>\n",
       "<style scoped>\n",
       "    .dataframe tbody tr th:only-of-type {\n",
       "        vertical-align: middle;\n",
       "    }\n",
       "\n",
       "    .dataframe tbody tr th {\n",
       "        vertical-align: top;\n",
       "    }\n",
       "\n",
       "    .dataframe thead th {\n",
       "        text-align: right;\n",
       "    }\n",
       "</style>\n",
       "<table border=\"1\" class=\"dataframe\">\n",
       "  <thead>\n",
       "    <tr style=\"text-align: right;\">\n",
       "      <th></th>\n",
       "      <th>Age</th>\n",
       "      <th>Job</th>\n",
       "      <th>Credit amount</th>\n",
       "      <th>Duration</th>\n",
       "    </tr>\n",
       "  </thead>\n",
       "  <tbody>\n",
       "    <tr>\n",
       "      <th>count</th>\n",
       "      <td>1000.000000</td>\n",
       "      <td>1000.000000</td>\n",
       "      <td>1000.000000</td>\n",
       "      <td>1000.000000</td>\n",
       "    </tr>\n",
       "    <tr>\n",
       "      <th>mean</th>\n",
       "      <td>35.546000</td>\n",
       "      <td>1.904000</td>\n",
       "      <td>3271.258000</td>\n",
       "      <td>20.903000</td>\n",
       "    </tr>\n",
       "    <tr>\n",
       "      <th>std</th>\n",
       "      <td>11.375469</td>\n",
       "      <td>0.653614</td>\n",
       "      <td>2822.736876</td>\n",
       "      <td>12.058814</td>\n",
       "    </tr>\n",
       "    <tr>\n",
       "      <th>min</th>\n",
       "      <td>19.000000</td>\n",
       "      <td>0.000000</td>\n",
       "      <td>250.000000</td>\n",
       "      <td>4.000000</td>\n",
       "    </tr>\n",
       "    <tr>\n",
       "      <th>25%</th>\n",
       "      <td>27.000000</td>\n",
       "      <td>2.000000</td>\n",
       "      <td>1365.500000</td>\n",
       "      <td>12.000000</td>\n",
       "    </tr>\n",
       "    <tr>\n",
       "      <th>50%</th>\n",
       "      <td>33.000000</td>\n",
       "      <td>2.000000</td>\n",
       "      <td>2319.500000</td>\n",
       "      <td>18.000000</td>\n",
       "    </tr>\n",
       "    <tr>\n",
       "      <th>75%</th>\n",
       "      <td>42.000000</td>\n",
       "      <td>2.000000</td>\n",
       "      <td>3972.250000</td>\n",
       "      <td>24.000000</td>\n",
       "    </tr>\n",
       "    <tr>\n",
       "      <th>max</th>\n",
       "      <td>75.000000</td>\n",
       "      <td>3.000000</td>\n",
       "      <td>18424.000000</td>\n",
       "      <td>72.000000</td>\n",
       "    </tr>\n",
       "  </tbody>\n",
       "</table>\n",
       "</div>"
      ],
      "text/plain": [
       "               Age          Job  Credit amount     Duration\n",
       "count  1000.000000  1000.000000    1000.000000  1000.000000\n",
       "mean     35.546000     1.904000    3271.258000    20.903000\n",
       "std      11.375469     0.653614    2822.736876    12.058814\n",
       "min      19.000000     0.000000     250.000000     4.000000\n",
       "25%      27.000000     2.000000    1365.500000    12.000000\n",
       "50%      33.000000     2.000000    2319.500000    18.000000\n",
       "75%      42.000000     2.000000    3972.250000    24.000000\n",
       "max      75.000000     3.000000   18424.000000    72.000000"
      ]
     },
     "execution_count": 8,
     "metadata": {},
     "output_type": "execute_result"
    }
   ],
   "source": [
    "credit_df.describe()"
   ]
  },
  {
   "cell_type": "code",
   "execution_count": 9,
   "metadata": {},
   "outputs": [
    {
     "data": {
      "text/plain": [
       "Age                  53\n",
       "Sex                   2\n",
       "Job                   4\n",
       "Housing               3\n",
       "Saving accounts       5\n",
       "Checking account      4\n",
       "Credit amount       921\n",
       "Duration             33\n",
       "Purpose               8\n",
       "Risk                  2\n",
       "dtype: int64"
      ]
     },
     "execution_count": 9,
     "metadata": {},
     "output_type": "execute_result"
    }
   ],
   "source": [
    "credit_df.nunique()"
   ]
  },
  {
   "cell_type": "markdown",
   "metadata": {},
   "source": [
    "Note:\n",
    "Sex: male = 1, female = 2\n",
    "\n",
    "Housing: own = 1, rent = 2, free = 3\n",
    "\n",
    "Saving account/Checking account: Not available = 0, litte = 1, moderate = 2, quite rich = 3, rich = 4\n",
    "\n",
    "Purpose: car = 1, furniture/equipment = 2, radio/TV = 3, domestic appliances = 4, repairs = 5, education = 6, business = 7, vacation/others = 8"
   ]
  },
  {
   "cell_type": "markdown",
   "metadata": {},
   "source": [
    "**Numerical Data**"
   ]
  },
  {
   "cell_type": "code",
   "execution_count": 10,
   "metadata": {},
   "outputs": [],
   "source": [
    "credit_df.Sex = credit_df.Sex.map({ 'male' : 1, 'female' : 2})"
   ]
  },
  {
   "cell_type": "code",
   "execution_count": 11,
   "metadata": {},
   "outputs": [],
   "source": [
    "credit_df.Housing = credit_df.Housing.map({ 'own' : 1, 'rent' : 2, 'free' : 3})"
   ]
  },
  {
   "cell_type": "code",
   "execution_count": 12,
   "metadata": {},
   "outputs": [],
   "source": [
    "credit_df['Saving accounts'] = credit_df['Saving accounts'].map({ 'not available' : 0, 'little' : 1, 'moderate' : 2, 'quite rich': 3, 'rich': 4})"
   ]
  },
  {
   "cell_type": "code",
   "execution_count": 13,
   "metadata": {},
   "outputs": [],
   "source": [
    "credit_df['Checking account'] = credit_df['Checking account'].map({ 'not available' : 0, 'little' : 1, 'moderate' : 2, 'quite rich': 3, 'rich': 4})"
   ]
  },
  {
   "cell_type": "code",
   "execution_count": 14,
   "metadata": {},
   "outputs": [],
   "source": [
    "credit_df['Purpose'] = credit_df['Purpose'].map({ 'car':1, 'furniture/equipment':2, 'radio/TV':3, 'domestic appliances':4, 'repairs':5, 'education':6, 'business':7, 'vacation/others':8})"
   ]
  },
  {
   "cell_type": "code",
   "execution_count": 15,
   "metadata": {},
   "outputs": [
    {
     "data": {
      "text/html": [
       "<div>\n",
       "<style scoped>\n",
       "    .dataframe tbody tr th:only-of-type {\n",
       "        vertical-align: middle;\n",
       "    }\n",
       "\n",
       "    .dataframe tbody tr th {\n",
       "        vertical-align: top;\n",
       "    }\n",
       "\n",
       "    .dataframe thead th {\n",
       "        text-align: right;\n",
       "    }\n",
       "</style>\n",
       "<table border=\"1\" class=\"dataframe\">\n",
       "  <thead>\n",
       "    <tr style=\"text-align: right;\">\n",
       "      <th></th>\n",
       "      <th>Age</th>\n",
       "      <th>Sex</th>\n",
       "      <th>Job</th>\n",
       "      <th>Housing</th>\n",
       "      <th>Saving accounts</th>\n",
       "      <th>Checking account</th>\n",
       "      <th>Credit amount</th>\n",
       "      <th>Duration</th>\n",
       "      <th>Purpose</th>\n",
       "      <th>Risk</th>\n",
       "    </tr>\n",
       "  </thead>\n",
       "  <tbody>\n",
       "    <tr>\n",
       "      <th>0</th>\n",
       "      <td>67</td>\n",
       "      <td>1</td>\n",
       "      <td>2</td>\n",
       "      <td>1</td>\n",
       "      <td>0</td>\n",
       "      <td>1</td>\n",
       "      <td>1169</td>\n",
       "      <td>6</td>\n",
       "      <td>3</td>\n",
       "      <td>good</td>\n",
       "    </tr>\n",
       "    <tr>\n",
       "      <th>1</th>\n",
       "      <td>22</td>\n",
       "      <td>2</td>\n",
       "      <td>2</td>\n",
       "      <td>1</td>\n",
       "      <td>1</td>\n",
       "      <td>2</td>\n",
       "      <td>5951</td>\n",
       "      <td>48</td>\n",
       "      <td>3</td>\n",
       "      <td>bad</td>\n",
       "    </tr>\n",
       "    <tr>\n",
       "      <th>2</th>\n",
       "      <td>49</td>\n",
       "      <td>1</td>\n",
       "      <td>1</td>\n",
       "      <td>1</td>\n",
       "      <td>1</td>\n",
       "      <td>0</td>\n",
       "      <td>2096</td>\n",
       "      <td>12</td>\n",
       "      <td>6</td>\n",
       "      <td>good</td>\n",
       "    </tr>\n",
       "    <tr>\n",
       "      <th>3</th>\n",
       "      <td>45</td>\n",
       "      <td>1</td>\n",
       "      <td>2</td>\n",
       "      <td>3</td>\n",
       "      <td>1</td>\n",
       "      <td>1</td>\n",
       "      <td>7882</td>\n",
       "      <td>42</td>\n",
       "      <td>2</td>\n",
       "      <td>good</td>\n",
       "    </tr>\n",
       "    <tr>\n",
       "      <th>4</th>\n",
       "      <td>53</td>\n",
       "      <td>1</td>\n",
       "      <td>2</td>\n",
       "      <td>3</td>\n",
       "      <td>1</td>\n",
       "      <td>1</td>\n",
       "      <td>4870</td>\n",
       "      <td>24</td>\n",
       "      <td>1</td>\n",
       "      <td>bad</td>\n",
       "    </tr>\n",
       "    <tr>\n",
       "      <th>5</th>\n",
       "      <td>35</td>\n",
       "      <td>1</td>\n",
       "      <td>1</td>\n",
       "      <td>3</td>\n",
       "      <td>0</td>\n",
       "      <td>0</td>\n",
       "      <td>9055</td>\n",
       "      <td>36</td>\n",
       "      <td>6</td>\n",
       "      <td>good</td>\n",
       "    </tr>\n",
       "    <tr>\n",
       "      <th>6</th>\n",
       "      <td>53</td>\n",
       "      <td>1</td>\n",
       "      <td>2</td>\n",
       "      <td>1</td>\n",
       "      <td>3</td>\n",
       "      <td>0</td>\n",
       "      <td>2835</td>\n",
       "      <td>24</td>\n",
       "      <td>2</td>\n",
       "      <td>good</td>\n",
       "    </tr>\n",
       "    <tr>\n",
       "      <th>7</th>\n",
       "      <td>35</td>\n",
       "      <td>1</td>\n",
       "      <td>3</td>\n",
       "      <td>2</td>\n",
       "      <td>1</td>\n",
       "      <td>2</td>\n",
       "      <td>6948</td>\n",
       "      <td>36</td>\n",
       "      <td>1</td>\n",
       "      <td>good</td>\n",
       "    </tr>\n",
       "    <tr>\n",
       "      <th>8</th>\n",
       "      <td>61</td>\n",
       "      <td>1</td>\n",
       "      <td>1</td>\n",
       "      <td>1</td>\n",
       "      <td>4</td>\n",
       "      <td>0</td>\n",
       "      <td>3059</td>\n",
       "      <td>12</td>\n",
       "      <td>3</td>\n",
       "      <td>good</td>\n",
       "    </tr>\n",
       "    <tr>\n",
       "      <th>9</th>\n",
       "      <td>28</td>\n",
       "      <td>1</td>\n",
       "      <td>3</td>\n",
       "      <td>1</td>\n",
       "      <td>1</td>\n",
       "      <td>2</td>\n",
       "      <td>5234</td>\n",
       "      <td>30</td>\n",
       "      <td>1</td>\n",
       "      <td>bad</td>\n",
       "    </tr>\n",
       "  </tbody>\n",
       "</table>\n",
       "</div>"
      ],
      "text/plain": [
       "   Age  Sex  Job  Housing  Saving accounts  Checking account  Credit amount  \\\n",
       "0   67    1    2        1                0                 1           1169   \n",
       "1   22    2    2        1                1                 2           5951   \n",
       "2   49    1    1        1                1                 0           2096   \n",
       "3   45    1    2        3                1                 1           7882   \n",
       "4   53    1    2        3                1                 1           4870   \n",
       "5   35    1    1        3                0                 0           9055   \n",
       "6   53    1    2        1                3                 0           2835   \n",
       "7   35    1    3        2                1                 2           6948   \n",
       "8   61    1    1        1                4                 0           3059   \n",
       "9   28    1    3        1                1                 2           5234   \n",
       "\n",
       "   Duration  Purpose  Risk  \n",
       "0         6        3  good  \n",
       "1        48        3   bad  \n",
       "2        12        6  good  \n",
       "3        42        2  good  \n",
       "4        24        1   bad  \n",
       "5        36        6  good  \n",
       "6        24        2  good  \n",
       "7        36        1  good  \n",
       "8        12        3  good  \n",
       "9        30        1   bad  "
      ]
     },
     "execution_count": 15,
     "metadata": {},
     "output_type": "execute_result"
    }
   ],
   "source": [
    "credit_df.head(10)"
   ]
  },
  {
   "cell_type": "code",
   "execution_count": 16,
   "metadata": {},
   "outputs": [
    {
     "data": {
      "text/html": [
       "<div>\n",
       "<style scoped>\n",
       "    .dataframe tbody tr th:only-of-type {\n",
       "        vertical-align: middle;\n",
       "    }\n",
       "\n",
       "    .dataframe tbody tr th {\n",
       "        vertical-align: top;\n",
       "    }\n",
       "\n",
       "    .dataframe thead th {\n",
       "        text-align: right;\n",
       "    }\n",
       "</style>\n",
       "<table border=\"1\" class=\"dataframe\">\n",
       "  <thead>\n",
       "    <tr style=\"text-align: right;\">\n",
       "      <th></th>\n",
       "      <th>Age</th>\n",
       "      <th>Sex</th>\n",
       "      <th>Job</th>\n",
       "      <th>Housing</th>\n",
       "      <th>Saving accounts</th>\n",
       "      <th>Checking account</th>\n",
       "      <th>Credit amount</th>\n",
       "      <th>Duration</th>\n",
       "      <th>Purpose</th>\n",
       "    </tr>\n",
       "  </thead>\n",
       "  <tbody>\n",
       "    <tr>\n",
       "      <th>0</th>\n",
       "      <td>67</td>\n",
       "      <td>1</td>\n",
       "      <td>2</td>\n",
       "      <td>1</td>\n",
       "      <td>0</td>\n",
       "      <td>1</td>\n",
       "      <td>1169</td>\n",
       "      <td>6</td>\n",
       "      <td>3</td>\n",
       "    </tr>\n",
       "    <tr>\n",
       "      <th>1</th>\n",
       "      <td>22</td>\n",
       "      <td>2</td>\n",
       "      <td>2</td>\n",
       "      <td>1</td>\n",
       "      <td>1</td>\n",
       "      <td>2</td>\n",
       "      <td>5951</td>\n",
       "      <td>48</td>\n",
       "      <td>3</td>\n",
       "    </tr>\n",
       "    <tr>\n",
       "      <th>2</th>\n",
       "      <td>49</td>\n",
       "      <td>1</td>\n",
       "      <td>1</td>\n",
       "      <td>1</td>\n",
       "      <td>1</td>\n",
       "      <td>0</td>\n",
       "      <td>2096</td>\n",
       "      <td>12</td>\n",
       "      <td>6</td>\n",
       "    </tr>\n",
       "    <tr>\n",
       "      <th>3</th>\n",
       "      <td>45</td>\n",
       "      <td>1</td>\n",
       "      <td>2</td>\n",
       "      <td>3</td>\n",
       "      <td>1</td>\n",
       "      <td>1</td>\n",
       "      <td>7882</td>\n",
       "      <td>42</td>\n",
       "      <td>2</td>\n",
       "    </tr>\n",
       "    <tr>\n",
       "      <th>4</th>\n",
       "      <td>53</td>\n",
       "      <td>1</td>\n",
       "      <td>2</td>\n",
       "      <td>3</td>\n",
       "      <td>1</td>\n",
       "      <td>1</td>\n",
       "      <td>4870</td>\n",
       "      <td>24</td>\n",
       "      <td>1</td>\n",
       "    </tr>\n",
       "  </tbody>\n",
       "</table>\n",
       "</div>"
      ],
      "text/plain": [
       "   Age  Sex  Job  Housing  Saving accounts  Checking account  Credit amount  \\\n",
       "0   67    1    2        1                0                 1           1169   \n",
       "1   22    2    2        1                1                 2           5951   \n",
       "2   49    1    1        1                1                 0           2096   \n",
       "3   45    1    2        3                1                 1           7882   \n",
       "4   53    1    2        3                1                 1           4870   \n",
       "\n",
       "   Duration  Purpose  \n",
       "0         6        3  \n",
       "1        48        3  \n",
       "2        12        6  \n",
       "3        42        2  \n",
       "4        24        1  "
      ]
     },
     "execution_count": 16,
     "metadata": {},
     "output_type": "execute_result"
    }
   ],
   "source": [
    "# Create set of only independant variables by dropping Risk\n",
    "X = credit_df.drop(['Risk'], axis=1)\n",
    "X.head()"
   ]
  },
  {
   "cell_type": "code",
   "execution_count": 17,
   "metadata": {},
   "outputs": [
    {
     "data": {
      "text/plain": [
       "0    good\n",
       "1     bad\n",
       "2    good\n",
       "3    good\n",
       "4     bad\n",
       "Name: Risk, dtype: object"
      ]
     },
     "execution_count": 17,
     "metadata": {},
     "output_type": "execute_result"
    }
   ],
   "source": [
    "# Create a series of outcome variable only\n",
    "y = credit_df['Risk']\n",
    "y.head()"
   ]
  },
  {
   "cell_type": "code",
   "execution_count": 18,
   "metadata": {},
   "outputs": [],
   "source": [
    "# split datasets into training and test subsets for both X and y using sklearn\n",
    "from sklearn.model_selection import train_test_split\n",
    "X_train, X_test, y_train, y_test = train_test_split(X, y, test_size=0.3, random_state=5)"
   ]
  },
  {
   "cell_type": "code",
   "execution_count": 19,
   "metadata": {},
   "outputs": [],
   "source": [
    "from sklearn.preprocessing import LabelEncoder, StandardScaler"
   ]
  },
  {
   "cell_type": "code",
   "execution_count": 20,
   "metadata": {},
   "outputs": [
    {
     "name": "stdout",
     "output_type": "stream",
     "text": [
      "(700, 9)\n",
      "(300, 9)\n"
     ]
    }
   ],
   "source": [
    "print(X_train.shape)\n",
    "print(X_test.shape)"
   ]
  },
  {
   "cell_type": "markdown",
   "metadata": {},
   "source": [
    "Generate X train, X test, y train, y test\n"
   ]
  },
  {
   "cell_type": "code",
   "execution_count": 21,
   "metadata": {},
   "outputs": [
    {
     "name": "stdout",
     "output_type": "stream",
     "text": [
      "X train:  (700, 9)\n",
      "X test:  (300, 9)\n",
      "y train:  (700,)\n",
      "y test:  (300,)\n"
     ]
    }
   ],
   "source": [
    "print(\"X train: \",X_train.shape)\n",
    "print(\"X test: \",X_test.shape)\n",
    "print(\"y train: \",y_train.shape)\n",
    "print(\"y test: \",y_test.shape)"
   ]
  },
  {
   "cell_type": "markdown",
   "metadata": {},
   "source": [
    "**PCA**"
   ]
  },
  {
   "cell_type": "code",
   "execution_count": 22,
   "metadata": {},
   "outputs": [],
   "source": [
    "from sklearn.decomposition import PCA"
   ]
  },
  {
   "cell_type": "code",
   "execution_count": 23,
   "metadata": {},
   "outputs": [],
   "source": [
    "\n",
    "\n",
    "pca = PCA(n_components=4)\n",
    "X_train_pca = pca.fit_transform(X_train)\n",
    "X_test_pca = pca.transform(X_test)\n",
    "\n",
    "\n",
    "    "
   ]
  },
  {
   "cell_type": "markdown",
   "metadata": {},
   "source": [
    "**Classical SVM**"
   ]
  },
  {
   "cell_type": "code",
   "execution_count": 24,
   "metadata": {},
   "outputs": [],
   "source": [
    "from sklearn.svm import SVC\n",
    "from sklearn.metrics import classification_report"
   ]
  },
  {
   "cell_type": "code",
   "execution_count": 25,
   "metadata": {},
   "outputs": [
    {
     "name": "stdout",
     "output_type": "stream",
     "text": [
      "Report of SVM efficiency:\n",
      "              precision    recall  f1-score   support\n",
      "\n",
      "         bad       0.50      0.02      0.05        82\n",
      "        good       0.73      0.99      0.84       218\n",
      "\n",
      "    accuracy                           0.73       300\n",
      "   macro avg       0.61      0.51      0.44       300\n",
      "weighted avg       0.67      0.73      0.62       300\n",
      "\n"
     ]
    }
   ],
   "source": [
    "from sklearn.svm import SVC\n",
    "from sklearn.metrics import classification_report, confusion_matrix\n",
    "# train the model\n",
    "svm = SVC()\n",
    "svm.fit(X_train_pca, y_train)\n",
    "# Dự đoán\n",
    "svm_predictions = svm.predict(X_test_pca)\n",
    "\n",
    "# Đánh giá\n",
    "print(\"Report of SVM efficiency:\")\n",
    "print(classification_report(y_test, svm_predictions))\n"
   ]
  },
  {
   "cell_type": "markdown",
   "metadata": {},
   "source": [
    "Trainning with various number of feature"
   ]
  },
  {
   "cell_type": "code",
   "execution_count": 54,
   "metadata": {},
   "outputs": [
    {
     "name": "stdout",
     "output_type": "stream",
     "text": [
      "Feature 2: Accuracy = 0.7266666666666667\n",
      "Feature 3: Accuracy = 0.7266666666666667\n",
      "Feature 4: Accuracy = 0.7266666666666667\n",
      "Feature 5: Accuracy = 0.7266666666666667\n",
      "Feature 6: Accuracy = 0.7266666666666667\n",
      "Feature 7: Accuracy = 0.7266666666666667\n",
      "Feature 8: Accuracy = 0.7266666666666667\n",
      "Feature 9: Accuracy = 0.7266666666666667\n"
     ]
    }
   ],
   "source": [
    "features = []\n",
    "accuracies = []\n",
    "\n",
    "for i in range(2,10):\n",
    "    pca = PCA(n_components=i)\n",
    "    X_train_pca = pca.fit_transform(X_train)\n",
    "    X_test_pca = pca.transform(X_test)\n",
    "    svm = SVC(kernel='rbf', C=i)\n",
    "    svm.fit(X_train_pca, y_train)\n",
    "    y_pred = svm.predict(X_test_pca)\n",
    "    accuracy = accuracy_score(y_test, y_pred)\n",
    "    features.append(i)  \n",
    "    accuracies.append(accuracy)  \n",
    "    print(f\"Feature {i}: Accuracy = {accuracy}\")\n",
    "    "
   ]
  },
  {
   "cell_type": "markdown",
   "metadata": {},
   "source": [
    "**QSVM**"
   ]
  },
  {
   "cell_type": "code",
   "execution_count": 27,
   "metadata": {},
   "outputs": [],
   "source": [
    "import os\n",
    "from qiskit.qpy import load"
   ]
  },
  {
   "cell_type": "code",
   "execution_count": 28,
   "metadata": {},
   "outputs": [],
   "source": [
    "from qiskit import QuantumRegister"
   ]
  },
  {
   "cell_type": "code",
   "execution_count": 29,
   "metadata": {},
   "outputs": [],
   "source": [
    "\n",
    "def train_qsvm_with_GermanCredit(quantum_circuit):\n",
    "    \n",
    "    if quantum_circuit.num_qubits < len(quantum_circuit.parameters):\n",
    "            print(f\"Qubits {quantum_circuit.num_qubits} < Parameters {len(quantum_circuit.parameters)}\")\n",
    "    elif quantum_circuit.num_qubits == len(quantum_circuit.parameters):\n",
    "            print(f\"Qubits {quantum_circuit.num_qubits} = Parameters {len(quantum_circuit.parameters)}\")\n",
    "    else:\n",
    "            print(f\"Qubits {quantum_circuit.num_qubits} > Parameters {len(quantum_circuit.parameters)}\")\n",
    "            \n",
    "    pca =PCA(n_components=len(quantum_circuit.parameters)) # PCA đến parameters\n",
    "    X_train_pca = pca.fit_transform(X_train)\n",
    "    X_test_pca = pca.transform(X_test)\n",
    "\n",
    "\n",
    "    backend = Aer.get_backend('statevector_simulator')\n",
    "    quantum_kernel = QuantumKernel(feature_map=quantum_circuit, quantum_instance=backend)\n",
    "    qsvc = QSVC(quantum_kernel=quantum_kernel)\n",
    "    qsvc.fit(X_train_pca, y_train)\n",
    "    y_pred = qsvc.predict(X_test_pca)\n",
    "    accuracy = accuracy_score(y_test, y_pred)\n",
    "\n",
    "    return accuracy\n"
   ]
  },
  {
   "cell_type": "code",
   "execution_count": 48,
   "metadata": {},
   "outputs": [
    {
     "name": "stdout",
     "output_type": "stream",
     "text": [
      "Qubits 4 > Parameters 2\n",
      "Accuracy: 0.7266666666666667\n",
      "Qubits 4 > Parameters 1\n",
      "Accuracy: 0.7266666666666667\n",
      "Qubits 4 > Parameters 1\n",
      "Accuracy: 0.7266666666666667\n",
      "Qubits 4 > Parameters 2\n",
      "Accuracy: 0.7266666666666667\n",
      "Qubits 4 = Parameters 4\n",
      "Accuracy: 0.7266666666666667\n",
      "Qubits 4 = Parameters 4\n",
      "Accuracy: 0.7266666666666667\n",
      "Qubits 4 = Parameters 4\n",
      "Accuracy: 0.7266666666666667\n",
      "Qubits 4 > Parameters 3\n",
      "Accuracy: 0.7266666666666667\n",
      "Qubits 4 = Parameters 4\n",
      "Accuracy: 0.7266666666666667\n",
      "Qubits 4 = Parameters 4\n",
      "Accuracy: 0.7266666666666667\n",
      "Qubits 4 = Parameters 4\n",
      "Accuracy: 0.7266666666666667\n",
      "Qubits 4 = Parameters 4\n",
      "Accuracy: 0.7266666666666667\n",
      "Qubits 4 < Parameters 5\n",
      "Accuracy: 0.7266666666666667\n",
      "Qubits 4 < Parameters 6\n",
      "Accuracy: 0.7266666666666667\n",
      "Qubits 4 = Parameters 4\n",
      "Accuracy: 0.7266666666666667\n",
      "Qubits 4 < Parameters 6\n",
      "Accuracy: 0.73\n",
      "Qubits 4 < Parameters 9\n",
      "Accuracy: 0.7266666666666667\n",
      "Qubits 4 < Parameters 9\n",
      "Accuracy: 0.72\n",
      "Qubits 4 < Parameters 7\n",
      "Accuracy: 0.7266666666666667\n",
      "Qubits 4 < Parameters 8\n",
      "Accuracy: 0.7266666666666667\n",
      "Qubits 4 < Parameters 6\n",
      "Accuracy: 0.7266666666666667\n",
      "Qubits 4 < Parameters 9\n",
      "Accuracy: 0.7233333333333334\n",
      "Qubits 4 < Parameters 9\n",
      "Accuracy: 0.7266666666666667\n",
      "Qubits 4 < Parameters 10\n",
      "Error loading circuit in C:\\Desktop\\GA+QSVM\\[IRIS]Best_Circuit_With_NumQubit_4_Depth_4_NumCircuit_3\\best_circuit.qpy: n_components=10 must be between 0 and min(n_samples, n_features)=9 with svd_solver='covariance_eigh'\n",
      "Qubits 4 < Parameters 10\n",
      "Error loading circuit in C:\\Desktop\\GA+QSVM\\[IRIS]Best_Circuit_With_NumQubit_4_Depth_4_NumCircuit_5\\best_circuit.qpy: n_components=10 must be between 0 and min(n_samples, n_features)=9 with svd_solver='covariance_eigh'\n",
      "Qubits 4 < Parameters 10\n",
      "Error loading circuit in C:\\Desktop\\GA+QSVM\\[IRIS]Best_Circuit_With_NumQubit_4_Depth_4_NumCircuit_6\\best_circuit.qpy: n_components=10 must be between 0 and min(n_samples, n_features)=9 with svd_solver='covariance_eigh'\n",
      "Qubits 4 < Parameters 11\n",
      "Error loading circuit in C:\\Desktop\\GA+QSVM\\[IRIS]Best_Circuit_With_NumQubit_4_Depth_4_NumCircuit_7\\best_circuit.qpy: n_components=11 must be between 0 and min(n_samples, n_features)=9 with svd_solver='covariance_eigh'\n",
      "Qubits 4 < Parameters 12\n",
      "Error loading circuit in C:\\Desktop\\GA+QSVM\\[IRIS]Best_Circuit_With_NumQubit_4_Depth_5_NumCircuit_1\\best_circuit.qpy: n_components=12 must be between 0 and min(n_samples, n_features)=9 with svd_solver='covariance_eigh'\n",
      "Qubits 4 < Parameters 14\n",
      "Error loading circuit in C:\\Desktop\\GA+QSVM\\[IRIS]Best_Circuit_With_NumQubit_4_Depth_5_NumCircuit_3\\best_circuit.qpy: n_components=14 must be between 0 and min(n_samples, n_features)=9 with svd_solver='covariance_eigh'\n"
     ]
    }
   ],
   "source": [
    "base_directory = r'C:\\Desktop\\GA+QSVM'\n",
    "folder_pattern = \"[IRIS]Best_Circuit_With_NumQubit_{i}_Depth_{j}_NumCircuit_{k}\"\n",
    "results = {}\n",
    "GAfeatures = []\n",
    "GAccuracies = []\n",
    "\n",
    "\n",
    "for i in range(1,9):\n",
    "    for j in range(1,9):\n",
    "        for k in range(1,9):\n",
    "            folder_name = folder_pattern.format(i=i, j=j, k=k)\n",
    "            folder_path = os.path.join(base_directory, folder_name)\n",
    "            \n",
    "            if os.path.isdir(folder_path):\n",
    "                file_path = os.path.join(folder_path, \"best_circuit.qpy\")\n",
    "                \n",
    "                if os.path.exists(file_path):\n",
    "                    try:\n",
    "                        with open(file_path, \"rb\") as f:\n",
    "                            circuits = load(f) \n",
    "                            best_circuit = circuits[0]  \n",
    "                            \n",
    "                            test = train_qsvm_with_GermanCredit(best_circuit)\n",
    "                            print(f\"Accuracy: {test}\")\n",
    "                            GAfeatures.append(len(best_circuit.parameters))  \n",
    "                            GAccuracies.append(test)  \n",
    "\n",
    "                    \n",
    "                    except Exception as e:\n",
    "                        print(f\"Error loading circuit in {file_path}: {e}\") \n",
    "                else:\n",
    "                    print(\"Fail loading\")"
   ]
  },
  {
   "cell_type": "code",
   "execution_count": 53,
   "metadata": {},
   "outputs": [
    {
     "name": "stdout",
     "output_type": "stream",
     "text": [
      "Features: [1, 2, 3, 4, 5, 6, 7, 8, 9]\n",
      "Accuracies: [0.7266666666666667, 0.7266666666666667, 0.7266666666666667, 0.7266666666666667, 0.7266666666666667, 0.73, 0.7266666666666667, 0.7266666666666667, 0.7266666666666667]\n"
     ]
    }
   ],
   "source": [
    "def sort_and_deduplicate(features, accuracies):\n",
    "\n",
    "\n",
    "    combined = list(zip(features, accuracies))\n",
    "    \n",
    "\n",
    "    feature_to_accuracy = {}\n",
    "    for feature, accuracy in combined:\n",
    "        if feature not in feature_to_accuracy:\n",
    "            feature_to_accuracy[feature] = accuracy\n",
    "        else:\n",
    "\n",
    "            feature_to_accuracy[feature] = max(feature_to_accuracy[feature], accuracy)\n",
    "    \n",
    "\n",
    "    deduplicated_features = sorted(feature_to_accuracy.keys())\n",
    "    deduplicated_accuracies = [feature_to_accuracy[feature] for feature in deduplicated_features]\n",
    "    \n",
    "    return deduplicated_features, deduplicated_accuracies\n",
    "\n",
    "\n",
    "deduplicated_features, deduplicated_accuracies = sort_and_deduplicate(GAfeatures, GAccuracies)\n",
    "\n",
    "print(\"Features:\", deduplicated_features)\n",
    "print(\"Accuracies:\", deduplicated_accuracies)\n"
   ]
  },
  {
   "cell_type": "markdown",
   "metadata": {},
   "source": [
    "**Test with ZFeatureMap()**"
   ]
  },
  {
   "cell_type": "code",
   "execution_count": 31,
   "metadata": {},
   "outputs": [
    {
     "name": "stdout",
     "output_type": "stream",
     "text": [
      "Qubits 2 = Parameters 2\n",
      "Feature 2: 0.7266666666666667\n",
      "Qubits 3 = Parameters 3\n",
      "Feature 3: 0.7266666666666667\n",
      "Qubits 4 = Parameters 4\n",
      "Feature 4: 0.7266666666666667\n",
      "Qubits 5 = Parameters 5\n",
      "Feature 5: 0.6933333333333334\n",
      "Qubits 6 = Parameters 6\n",
      "Feature 6: 0.7166666666666667\n",
      "Qubits 7 = Parameters 7\n",
      "Feature 7: 0.7166666666666667\n",
      "Qubits 8 = Parameters 8\n",
      "Feature 8: 0.72\n"
     ]
    }
   ],
   "source": [
    "zfeatures = []\n",
    "zaccuracies = []\n",
    "\n",
    "for i in range(2, 9):\n",
    "    feature_map = ZFeatureMap(feature_dimension=i)\n",
    "    test = train_qsvm_with_GermanCredit(feature_map)\n",
    "    zfeatures.append(i)  \n",
    "    zaccuracies.append(test)  \n",
    "    print(f\"Feature {i}: {test}\")"
   ]
  },
  {
   "cell_type": "code",
   "execution_count": 32,
   "metadata": {},
   "outputs": [
    {
     "name": "stdout",
     "output_type": "stream",
     "text": [
      "Qubits 2 = Parameters 2\n",
      "Feature 2: 0.7266666666666667\n",
      "Qubits 3 = Parameters 3\n",
      "Feature 3: 0.7266666666666667\n",
      "Qubits 4 = Parameters 4\n",
      "Feature 4: 0.7266666666666667\n",
      "Qubits 5 = Parameters 5\n",
      "Feature 5: 0.7\n",
      "Qubits 6 = Parameters 6\n",
      "Feature 6: 0.7166666666666667\n",
      "Qubits 7 = Parameters 7\n",
      "Feature 7: 0.7266666666666667\n",
      "Qubits 8 = Parameters 8\n",
      "Feature 8: 0.7266666666666667\n"
     ]
    }
   ],
   "source": [
    "zzfeatures = []\n",
    "zzaccuracies = []\n",
    "\n",
    "for i in range(2, 9):\n",
    "    feature_map = ZZFeatureMap(feature_dimension=i)\n",
    "    test = train_qsvm_with_GermanCredit(feature_map)\n",
    "    zzfeatures.append(i)  \n",
    "    zzaccuracies.append(test)  \n",
    "    print(f\"Feature {i}: {test}\")"
   ]
  },
  {
   "cell_type": "code",
   "execution_count": 52,
   "metadata": {},
   "outputs": [
    {
     "data": {
      "image/png": "[encoded data removed]",
      "text/plain": [
       "<Figure size 1000x600 with 1 Axes>"
      ]
     },
     "metadata": {},
     "output_type": "display_data"
    }
   ],
   "source": [
    "import matplotlib.pyplot as plt\n",
    "\n",
    "plt.figure(figsize=(10, 6))\n",
    "\n",
    "\n",
    "plt.plot(features, accuracies, marker='o', linestyle='-', label='Classical SVM', linewidth=2)\n",
    "\n",
    "\n",
    "plt.plot(zfeatures, zaccuracies, marker='o', linestyle='-', label='ZFeatureMap', linewidth=2)\n",
    "\n",
    "\n",
    "plt.plot(zzfeatures, zzaccuracies, marker='s', linestyle='--', label='ZZFeatureMap', linewidth=2)\n",
    "\n",
    "plt.plot(deduplicated_features, deduplicated_accuracies, marker='^', linestyle='-.', label='GA', linewidth=2)\n",
    "\n",
    "\n",
    "plt.title(\"Comparison of Accuracy for Different Models\", fontsize=16)\n",
    "plt.xlabel(\"Number of Features / Parameters\", fontsize=14)\n",
    "plt.ylabel(\"Accuracy\", fontsize=14)\n",
    "plt.grid(True)\n",
    "plt.legend(fontsize=12)\n",
    "\n",
    "\n",
    "plt.show()\n"
   ]
  }
 ],
 "metadata": {
  "kernelspec": {
   "display_name": "Python 3",
   "language": "python",
   "name": "python3"
  },
  "language_info": {
   "codemirror_mode": {
    "name": "ipython",
    "version": 3
   },
   "file_extension": ".py",
   "mimetype": "text/x-python",
   "name": "python",
   "nbconvert_exporter": "python",
   "pygments_lexer": "ipython3",
   "version": "3.11.5"
  }
 },
 "nbformat": 4,
 "nbformat_minor": 2
}
